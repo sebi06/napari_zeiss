{
 "cells": [
  {
   "cell_type": "code",
   "execution_count": 1,
   "metadata": {
    "slideshow": {
     "slide_type": "slide"
    }
   },
   "outputs": [],
   "source": [
    "########################################################################\n",
    "# File       : Read_and_Display_Images_in_Napari.ipynb\n",
    "# Version    : 0.4\n",
    "# Author     : czsrh\n",
    "# Date       : 16.05.2021\n",
    "# Institution : Carl Zeiss Microscopy GmbH\n",
    "#\n",
    "# Disclaimer: Just for testing - Use at your own risk.\n",
    "# Feedback or Improvements are welcome.\n",
    "########################################################################"
   ]
  },
  {
   "cell_type": "markdown",
   "metadata": {
    "slideshow": {
     "slide_type": "slide"
    }
   },
   "source": [
    "***Import Libaries to run this notebook***\n",
    "\n",
    "* [PyPi - czifile](https://pypi.org/project/czifile/)\n",
    "\n",
    "Thanks to Christoph Gohlke. For details and the source code please see [czifile.py](https://www.lfd.uci.edu/~gohlke/code/czifile.py.html)\n",
    "\n",
    "* [PyPi - AICSImageIO](https://pypi.org/project/aicsimageio/)\n",
    "\n",
    "Library to read OME-TIFF and CZI images. It uses the powerful [libCZI](https://github.com/zeiss-microscopy/libCZI) C++ library to read CZI images.\n",
    "\n",
    "* [PyPi - napari](https://pypi.org/project/napari/)\n",
    "\n",
    "Very new, fast and cool multi-dimensional array viewer. For more details see the prject page [GitHub - Napari](https://github.com/napari/napari)\n",
    "\n",
    "***\n",
    "\n",
    "Another important modules\n",
    "\n",
    "* [PyPi - xmltodict](https://pypi.org/project/xmltodict/)\n",
    "\n",
    "This is turns an XML, e.g. the OME-XML or CZI metadata into an \"easy-to-use\" python dictionary."
   ]
  },
  {
   "cell_type": "code",
   "execution_count": 1,
   "metadata": {
    "slideshow": {
     "slide_type": "slide"
    }
   },
   "outputs": [],
   "source": [
    "# this can be used to switch on/off warnings\n",
    "import warnings\n",
    "warnings.filterwarnings('ignore')\n",
    "warnings.simplefilter('ignore')\n",
    "\n",
    "import sys\n",
    "import tools.imgfile_tools as imf\n",
    "import tools.napari_tools as nap\n",
    "\n",
    "# import the libraries mentioned above\n",
    "import czifile as zis\n",
    "from aicsimageio import AICSImage, imread, imread_dask\n",
    "import xmltodict\n",
    "import os\n",
    "import numpy as np\n",
    "import napari\n",
    "import xml.etree.ElementTree as ET\n",
    "from IPython.display import display, HTML"
   ]
  },
  {
   "cell_type": "code",
   "execution_count": 13,
   "metadata": {
    "slideshow": {
     "slide_type": "slide"
    }
   },
   "outputs": [],
   "source": [
    "# define your testfiles here\n",
    "\n",
    "#filename = r\"C:\\Users\\m1srh\\OneDrive - Carl Zeiss AG\\Smart_Microscopy_Workshop\\datasets\\celldivision\\CellDivision_T=3_Z=5_CH=2_X=240_X=170.ome.tiff\"\n",
    "#filename = r\"C:\\Users\\m1srh\\OneDrive - Carl Zeiss AG\\Smart_Microscopy_Workshop\\datasets\\celldivision\\CellDivision_T=15_Z=20_CH=2_DCV.czi\"\n",
    "filename = r\"C:\\Testdata_Zeiss\\LatticeLightSheet\\LS_Mitosis_T=150-300.czi\""
   ]
  },
  {
   "cell_type": "code",
   "execution_count": 14,
   "metadata": {
    "slideshow": {
     "slide_type": "slide"
    },
    "tags": []
   },
   "outputs": [],
   "source": [
    "# !!! Only use for CZI files !!! \n",
    "\n",
    "# To read the CZI metadata one can use the czifile functionality\n",
    "\n",
    "# get czi object using the filename\n",
    "czi = zis.CziFile(filename)\n",
    "\n",
    "# get the metadata and close the czi file object\n",
    "mdczi = czi.metadata()\n",
    "czi.close()\n",
    "\n",
    "# parse the XML into a dictionary\n",
    "metadatadict_czi = xmltodict.parse(mdczi)"
   ]
  },
  {
   "cell_type": "code",
   "execution_count": 16,
   "metadata": {
    "slideshow": {
     "slide_type": "slide"
    }
   },
   "outputs": [
    {
     "output_type": "stream",
     "name": "stdout",
     "text": [
      "Write special CZI XML metainformation for:  C:\\Testdata_Zeiss\\LatticeLightSheet\\LS_Mitosis_T=150-300_CZI_MetaData.xml\n"
     ]
    }
   ],
   "source": [
    "# !!! Only use for CZI files !!! \n",
    "\n",
    "# Sometimes it can be very usefule to save the CZI metadate as an actual XML file.\n",
    "# This can be done quite easily by converting the metadata string into an XML tree.\n",
    "# This tree object can be directly as an XML file\n",
    "\n",
    "# define the new filename for the XML to be created later\n",
    "xmlfile = filename.replace('.czi', '_CZI_MetaData.xml')\n",
    "\n",
    "# get the element tree\n",
    "tree = ET.ElementTree(ET.fromstring(mdczi))\n",
    "\n",
    "# write xml to disk\n",
    "tree.write(xmlfile, encoding='utf-8', method='xml')\n",
    "\n",
    "print('Write special CZI XML metainformation for: ', xmlfile)"
   ]
  },
  {
   "cell_type": "code",
   "execution_count": 17,
   "metadata": {
    "slideshow": {
     "slide_type": "slide"
    }
   },
   "outputs": [
    {
     "output_type": "stream",
     "name": "stdout",
     "text": [
      "C:\\Testdata_Zeiss\\LatticeLightSheet\\LS_Mitosis_T=150-300_CZI_MetaData.xml\n"
     ]
    }
   ],
   "source": [
    "# !!! Only use for CZI files !!! \n",
    "\n",
    "# or much shorter\n",
    "xmlczi = imf.writexml_czi(filename)\n",
    "print(xmlczi)"
   ]
  },
  {
   "cell_type": "markdown",
   "metadata": {
    "slideshow": {
     "slide_type": "slide"
    }
   },
   "source": [
    "### Remark\n",
    "\n",
    "As one can clearly see there are a lot of metadata not all of them are needed for every workflow."
   ]
  },
  {
   "cell_type": "code",
   "execution_count": 18,
   "metadata": {
    "slideshow": {
     "slide_type": "slide"
    }
   },
   "outputs": [
    {
     "output_type": "stream",
     "name": "stdout",
     "text": [
      "Detected Image Type (based on extension): czi\n",
      "CZI is Mosaic : False\n",
      "CZI is RGB : False\n",
      "Channel shortname not found : 'ShortName'\n",
      "Channel shortname not found : 'ShortName'\n",
      "No M Dimension : 'SizeM'\n",
      "No B Dimension : 'SizeB'\n",
      "No S Dimension : 'SizeS'\n",
      "No H Dimension : 'SizeH'\n",
      "No I Dimension : 'SizeI'\n",
      "No V Dimension : 'SizeV'\n",
      "No Tubelens Mag. : 'TubeLenses' Using Default Value = 1.0.\n",
      "No Tubelens Mag. : 'TubeLenses' Using Default Value = 1.0.\n",
      "No Objective Name : 'Name'\n",
      "No Objective Immersion : 'Immersion'\n",
      "No Objective NA : 'LensNA'\n",
      "No Tubelens Mag. : 'TubeLenses' Using Default Value = 1.0.\n",
      "No Nominal Mag. : 'NominalMagnification' Using Default Value = 1.0.\n",
      "DetectorType not found : 'Type'\n",
      "Trying to extract Scene and Well information if existing ...\n",
      "No valid Scene or Well information found: 'S'\n",
      "Scales will not be rounded.\n"
     ]
    }
   ],
   "source": [
    "# get the array and the metadata\n",
    "metadata, add_metadata = imf.get_metadata(filename)\n",
    "img = AICSImage(filename)\n",
    "array = img.dask_data\n",
    "#array = img.get_image_data()"
   ]
  },
  {
   "cell_type": "code",
   "execution_count": 19,
   "metadata": {
    "slideshow": {
     "slide_type": "slide"
    }
   },
   "outputs": [
    {
     "output_type": "stream",
     "name": "stdout",
     "text": [
      "Array Shape                   :  (1, 151, 2, 70, 413, 434)\nCZI Array Shape (czifile)     :  (151, 2, 70, 413, 434, 1)\nCZI Dimension Entry (czifile) :  TCZYX0\nArray Shape (AICSImageIO)     :  (1, 151, 2, 70, 413, 434)\nDimension Entry (AICSImageIO) :  STCZYX\n"
     ]
    }
   ],
   "source": [
    "# shape of numpy array\n",
    "print('Array Shape                   : ', array.shape)\n",
    "\n",
    "# shape and dimension entry from CZI file as returned by czifile.py\n",
    "print('CZI Array Shape (czifile)     : ', metadata['shape_czifile'])\n",
    "print('CZI Dimension Entry (czifile) : ', metadata['axes_czifile'])\n",
    "print('Array Shape (AICSImageIO)     : ', metadata['Shape_aics'])\n",
    "print('Dimension Entry (AICSImageIO) : ', metadata['Axes_aics'])"
   ]
  },
  {
   "cell_type": "code",
   "execution_count": 20,
   "metadata": {
    "slideshow": {
     "slide_type": "slide"
    }
   },
   "outputs": [
    {
     "output_type": "stream",
     "name": "stdout",
     "text": [
      "SizeT :  151\nSizeZ :  70\nSizeC :  2\nSizeX :  434\nSizeY :  413\nXScale:  0.145\nYScale:  0.145\nZScale:  0.145\n"
     ]
    }
   ],
   "source": [
    "# show dimensions and scaling\n",
    "\n",
    "print('SizeT : ', metadata['SizeT'])\n",
    "print('SizeZ : ', metadata['SizeZ'])\n",
    "print('SizeC : ', metadata['SizeC'])\n",
    "print('SizeX : ', metadata['SizeX'])\n",
    "print('SizeY : ', metadata['SizeY'])\n",
    "print('XScale: ', metadata['XScale'])\n",
    "print('YScale: ', metadata['YScale'])\n",
    "print('ZScale: ', metadata['ZScale'])"
   ]
  },
  {
   "cell_type": "code",
   "execution_count": 21,
   "metadata": {
    "slideshow": {
     "slide_type": "slide"
    }
   },
   "outputs": [
    {
     "output_type": "display_data",
     "data": {
      "text/plain": "<IPython.core.display.HTML object>",
      "text/html": "<table border=\"1\" class=\"dataframe\">\n  <thead>\n    <tr style=\"text-align: right;\">\n      <th></th>\n      <th>Parameter</th>\n      <th>Value</th>\n    </tr>\n  </thead>\n  <tbody>\n    <tr>\n      <th>0</th>\n      <td>Directory</td>\n      <td>C:\\Testdata_Zeiss\\LatticeLightSheet</td>\n    </tr>\n    <tr>\n      <th>1</th>\n      <td>Filename</td>\n      <td>LS_Mitosis_T=150-300.czi</td>\n    </tr>\n    <tr>\n      <th>2</th>\n      <td>Extension</td>\n      <td>czi</td>\n    </tr>\n    <tr>\n      <th>3</th>\n      <td>ImageType</td>\n      <td>czi</td>\n    </tr>\n    <tr>\n      <th>4</th>\n      <td>AcqDate</td>\n      <td>2019-11-23T13:27:18.761492Z</td>\n    </tr>\n    <tr>\n      <th>5</th>\n      <td>TotalSeries</td>\n      <td>None</td>\n    </tr>\n    <tr>\n      <th>6</th>\n      <td>SizeX</td>\n      <td>434</td>\n    </tr>\n    <tr>\n      <th>7</th>\n      <td>SizeY</td>\n      <td>413</td>\n    </tr>\n    <tr>\n      <th>8</th>\n      <td>SizeZ</td>\n      <td>70</td>\n    </tr>\n    <tr>\n      <th>9</th>\n      <td>SizeC</td>\n      <td>2</td>\n    </tr>\n    <tr>\n      <th>10</th>\n      <td>SizeT</td>\n      <td>151</td>\n    </tr>\n    <tr>\n      <th>11</th>\n      <td>SizeS</td>\n      <td>1</td>\n    </tr>\n    <tr>\n      <th>12</th>\n      <td>SizeB</td>\n      <td>1</td>\n    </tr>\n    <tr>\n      <th>13</th>\n      <td>SizeM</td>\n      <td>1</td>\n    </tr>\n    <tr>\n      <th>14</th>\n      <td>Sizes BF</td>\n      <td>None</td>\n    </tr>\n    <tr>\n      <th>15</th>\n      <td>DimOrder BF</td>\n      <td>None</td>\n    </tr>\n    <tr>\n      <th>16</th>\n      <td>DimOrder BF Array</td>\n      <td>None</td>\n    </tr>\n    <tr>\n      <th>17</th>\n      <td>axes_czifile</td>\n      <td>TCZYX0</td>\n    </tr>\n    <tr>\n      <th>18</th>\n      <td>shape_czifile</td>\n      <td>(151, 2, 70, 413, 434, 1)</td>\n    </tr>\n    <tr>\n      <th>19</th>\n      <td>czi_isRGB</td>\n      <td>False</td>\n    </tr>\n    <tr>\n      <th>20</th>\n      <td>czi_isMosaic</td>\n      <td>False</td>\n    </tr>\n    <tr>\n      <th>21</th>\n      <td>ObjNA</td>\n      <td>[0.44, 1.0, None]</td>\n    </tr>\n    <tr>\n      <th>22</th>\n      <td>ObjMag</td>\n      <td>[13.3, 44.83, 1.0]</td>\n    </tr>\n    <tr>\n      <th>23</th>\n      <td>ObjID</td>\n      <td>[Objective:1, Objective:0, Objective:2]</td>\n    </tr>\n    <tr>\n      <th>24</th>\n      <td>ObjName</td>\n      <td>[Objective Reflected Light, Objective Observation, None]</td>\n    </tr>\n    <tr>\n      <th>25</th>\n      <td>ObjImmersion</td>\n      <td>[Water, Water, None]</td>\n    </tr>\n    <tr>\n      <th>26</th>\n      <td>TubelensMag</td>\n      <td>[1.0, 1.0, 1.0]</td>\n    </tr>\n    <tr>\n      <th>27</th>\n      <td>ObjNominalMag</td>\n      <td>[13.3, 44.83, 1.0]</td>\n    </tr>\n    <tr>\n      <th>28</th>\n      <td>XScale</td>\n      <td>0.145</td>\n    </tr>\n    <tr>\n      <th>29</th>\n      <td>YScale</td>\n      <td>0.145</td>\n    </tr>\n    <tr>\n      <th>30</th>\n      <td>ZScale</td>\n      <td>0.145</td>\n    </tr>\n    <tr>\n      <th>31</th>\n      <td>XScaleUnit</td>\n      <td>micron</td>\n    </tr>\n    <tr>\n      <th>32</th>\n      <td>YScaleUnit</td>\n      <td>micron</td>\n    </tr>\n    <tr>\n      <th>33</th>\n      <td>ZScaleUnit</td>\n      <td>micron</td>\n    </tr>\n    <tr>\n      <th>34</th>\n      <td>DetectorModel</td>\n      <td>[None]</td>\n    </tr>\n    <tr>\n      <th>35</th>\n      <td>DetectorName</td>\n      <td>[LatticeLightsheet]</td>\n    </tr>\n    <tr>\n      <th>36</th>\n      <td>DetectorID</td>\n      <td>[Detector:LatticeLightsheet]</td>\n    </tr>\n    <tr>\n      <th>37</th>\n      <td>DetectorType</td>\n      <td>[None]</td>\n    </tr>\n    <tr>\n      <th>38</th>\n      <td>InstrumentID</td>\n      <td>[]</td>\n    </tr>\n    <tr>\n      <th>39</th>\n      <td>Channels</td>\n      <td>[Dye1, Dye2]</td>\n    </tr>\n    <tr>\n      <th>40</th>\n      <td>ChannelNames</td>\n      <td>[LatticeLightsheet 1-T1, LatticeLightsheet 2-T2]</td>\n    </tr>\n    <tr>\n      <th>41</th>\n      <td>ChannelColors</td>\n      <td>[#FFFF00FF, #FF00FF00]</td>\n    </tr>\n    <tr>\n      <th>42</th>\n      <td>ImageIDs</td>\n      <td>[]</td>\n    </tr>\n    <tr>\n      <th>43</th>\n      <td>NumPy.dtype</td>\n      <td>uint16</td>\n    </tr>\n    <tr>\n      <th>44</th>\n      <td>Axes_aics</td>\n      <td>STCZYX</td>\n    </tr>\n    <tr>\n      <th>45</th>\n      <td>Shape_aics</td>\n      <td>(1, 151, 2, 70, 413, 434)</td>\n    </tr>\n    <tr>\n      <th>46</th>\n      <td>SizeX_aics</td>\n      <td>434</td>\n    </tr>\n    <tr>\n      <th>47</th>\n      <td>SizeY_aics</td>\n      <td>413</td>\n    </tr>\n    <tr>\n      <th>48</th>\n      <td>SizeC_aics</td>\n      <td>2</td>\n    </tr>\n    <tr>\n      <th>49</th>\n      <td>SizeZ_aics</td>\n      <td>151</td>\n    </tr>\n    <tr>\n      <th>50</th>\n      <td>SizeT_aics</td>\n      <td>151</td>\n    </tr>\n    <tr>\n      <th>51</th>\n      <td>SizeS_aics</td>\n      <td>1</td>\n    </tr>\n    <tr>\n      <th>52</th>\n      <td>dims_aicspylibczi</td>\n      <td>{'X': (0, 434), 'Y': (0, 413), 'Z': (0, 70), 'C': (0, 2), 'T': (0, 151)}</td>\n    </tr>\n    <tr>\n      <th>53</th>\n      <td>axes_aicspylibczi</td>\n      <td>TCZYX</td>\n    </tr>\n    <tr>\n      <th>54</th>\n      <td>size_aicspylibczi</td>\n      <td>(151, 2, 70, 413, 434)</td>\n    </tr>\n    <tr>\n      <th>55</th>\n      <td>dimpos_aics</td>\n      <td>{'B': -1, 'S': 0, 'T': 1, 'Z': 3, 'C': 2}</td>\n    </tr>\n    <tr>\n      <th>56</th>\n      <td>PixelType</td>\n      <td>Gray16</td>\n    </tr>\n    <tr>\n      <th>57</th>\n      <td>SizeH</td>\n      <td>1</td>\n    </tr>\n    <tr>\n      <th>58</th>\n      <td>SizeI</td>\n      <td>1</td>\n    </tr>\n    <tr>\n      <th>59</th>\n      <td>SizeV</td>\n      <td>1</td>\n    </tr>\n    <tr>\n      <th>60</th>\n      <td>SW-Name</td>\n      <td>ZEN (blue edition)</td>\n    </tr>\n    <tr>\n      <th>61</th>\n      <td>SW-Version</td>\n      <td>3.3.89.0000</td>\n    </tr>\n    <tr>\n      <th>62</th>\n      <td>Well_ArrayNames</td>\n      <td>[]</td>\n    </tr>\n    <tr>\n      <th>63</th>\n      <td>Well_Indices</td>\n      <td>[]</td>\n    </tr>\n    <tr>\n      <th>64</th>\n      <td>Well_PositionNames</td>\n      <td>[]</td>\n    </tr>\n    <tr>\n      <th>65</th>\n      <td>Well_ColId</td>\n      <td>[]</td>\n    </tr>\n    <tr>\n      <th>66</th>\n      <td>Well_RowId</td>\n      <td>[]</td>\n    </tr>\n    <tr>\n      <th>67</th>\n      <td>WellCounter</td>\n      <td>None</td>\n    </tr>\n    <tr>\n      <th>68</th>\n      <td>SceneStageCenterX</td>\n      <td>[]</td>\n    </tr>\n    <tr>\n      <th>69</th>\n      <td>SceneStageCenterY</td>\n      <td>[]</td>\n    </tr>\n    <tr>\n      <th>70</th>\n      <td>BBoxes_Scenes</td>\n      <td>[&lt;tools.fileutils.CZIScene object at 0x000001BB108537F0&gt;]</td>\n    </tr>\n  </tbody>\n</table>"
     },
     "metadata": {}
    }
   ],
   "source": [
    "### show complete metadata\n",
    "\n",
    "# convert metadata dictionary to a pandas dataframe\n",
    "mdframe = imf.md2dataframe(metadata)\n",
    "\n",
    "# and display it nicely as a HTML inside the jupyter notebook\n",
    "display(HTML(mdframe.to_html()))"
   ]
  },
  {
   "cell_type": "code",
   "execution_count": 22,
   "metadata": {
    "slideshow": {
     "slide_type": "slide"
    }
   },
   "outputs": [
    {
     "output_type": "stream",
     "name": "stdout",
     "text": [
      "Adding Channel  : Dye1\n",
      "Shape Channel   : 0 (1, 151, 1, 70, 413, 434)\n",
      "Scaling Factors : [1.0, 1.0, 1.0, 1.0, 1.0]\n",
      "Adding Channel  : Dye2\n",
      "Shape Channel   : 1 (1, 151, 1, 70, 413, 434)\n",
      "Scaling Factors : [1.0, 1.0, 1.0, 1.0, 1.0]\n",
      "Renaming the Sliders based on the Dimension String ....\n",
      "No H Dimension found\n",
      "No V Dimension found\n",
      "No M Dimension found\n"
     ]
    }
   ],
   "source": [
    "import time\n",
    "viewer = napari.Viewer()\n",
    "time.sleep(3)\n",
    "\n",
    "# configure napari automatically based on metadata and show stack\n",
    "layers = nap.show_napari(viewer, array, metadata,\n",
    "                                 blending='additive',\n",
    "                                 adjust_contrast=False,\n",
    "                                 gamma=0.85,\n",
    "                                 add_mdtable=True,\n",
    "                                 rename_sliders=True)"
   ]
  },
  {
   "cell_type": "markdown",
   "metadata": {},
   "source": [
    "jupyter nbconvert Read_and_Display_Images_in_Napari.ipynb --to slides --post serve"
   ]
  }
 ],
 "metadata": {
  "celltoolbar": "Slideshow",
  "file_extension": ".py",
  "kernelspec": {
   "name": "python388jvsc74a57bd04143269e52fadea13a5bff45f1e256bd2bb1e953d778ab0e470a886a1108556c",
   "display_name": "Python 3.8.8 64-bit ('imageanalysis_czi': conda)"
  },
  "language_info": {
   "codemirror_mode": {
    "name": "ipython",
    "version": 3
   },
   "file_extension": ".py",
   "mimetype": "text/x-python",
   "name": "python",
   "nbconvert_exporter": "python",
   "pygments_lexer": "ipython3",
   "version": "3.8.8"
  },
  "mimetype": "text/x-python",
  "name": "python",
  "npconvert_exporter": "python",
  "pygments_lexer": "ipython3",
  "version": 3
 },
 "nbformat": 4,
 "nbformat_minor": 2
}